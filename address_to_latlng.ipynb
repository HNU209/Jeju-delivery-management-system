{
 "cells": [
  {
   "cell_type": "code",
   "execution_count": 71,
   "metadata": {},
   "outputs": [],
   "source": [
    "from IPython.display import display\n",
    "import pandas as pd\n",
    "import requests\n",
    "import json\n",
    "\n",
    "def cut_address(address):\n",
    "    url = 'https://dapi.kakao.com/v2/local/search/address.json?query=' + address\n",
    "    headers = {\"Authorization\": \"KakaoAK 7dcc77a63de65b3cf73a27725b8fe8b2\"}\n",
    "    api_json = json.loads(str(requests.get(url,headers=headers).text))\n",
    "    if len(api_json['documents']) == 0:\n",
    "        address = address.rsplit(' ', 1)[0]\n",
    "        api_json = cut_address(address)\n",
    "    return api_json\n",
    "\n",
    "def get_location(data):\n",
    "    crd = []\n",
    "    address_lst = data['전체주소']\n",
    "    for address in address_lst:\n",
    "        api_json = cut_address(address)\n",
    "        address = api_json['documents'][0]['address']\n",
    "        crd_ = [str(address['y']), str(address['x'])]\n",
    "        crd.append(crd_)\n",
    "    crd_df = pd.DataFrame(crd, columns=['위도', '경도'])\n",
    "    df = pd.concat([data, crd_df], axis=1)\n",
    "    return df\n",
    "\n",
    "file_name = '제주박스_월별_배송주소(유산균).csv'\n",
    "df = pd.read_csv(file_name, encoding='cp949')\n",
    "df = get_location(df)\n",
    "df.to_csv('제주박스_월별_배송주소(유산균)_위경도.csv', index=None, encoding='cp949')"
   ]
  }
 ],
 "metadata": {
  "kernelspec": {
   "display_name": "Python 3.8.10 64-bit",
   "language": "python",
   "name": "python3"
  },
  "language_info": {
   "codemirror_mode": {
    "name": "ipython",
    "version": 3
   },
   "file_extension": ".py",
   "mimetype": "text/x-python",
   "name": "python",
   "nbconvert_exporter": "python",
   "pygments_lexer": "ipython3",
   "version": "3.8.10"
  },
  "orig_nbformat": 4,
  "vscode": {
   "interpreter": {
    "hash": "fbe58ca63fe33f9eeae9e71d10368d2b4a57f2b1b395836210cc60d362c66949"
   }
  }
 },
 "nbformat": 4,
 "nbformat_minor": 2
}
