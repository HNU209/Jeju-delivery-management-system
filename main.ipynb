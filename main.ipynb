{
 "cells": [
  {
   "cell_type": "code",
   "execution_count": 429,
   "metadata": {},
   "outputs": [],
   "source": [
    "from kakao_get_location import *\n",
    "from distance_matrix import compute_distance_osrm\n",
    "from osrm_api import *\n",
    "\n",
    "import pandas as pd \n",
    "import numpy as np \n",
    "import json\n",
    "import pickle\n",
    "import multiprocessing as mp\n",
    "from multiprocessing import Pool\n",
    "import warnings \n",
    "\n",
    "warnings.filterwarnings('ignore')"
   ]
  },
  {
   "cell_type": "code",
   "execution_count": 469,
   "metadata": {},
   "outputs": [
    {
     "name": "stderr",
     "output_type": "stream",
     "text": [
      "100%|██████████| 348/348 [00:21<00:00, 15.86it/s]\n"
     ]
    }
   ],
   "source": [
    "# 위경도 좌표 추가\n",
    "items = pd.read_excel('./raw_data/제주박스_월별 배송주소(유산균).xlsx')\n",
    "items  = get_location_dataframe(items)\n",
    "items['번호'] = items['번호'].astype('int')\n",
    "items['위도'] = items['위도'].astype('float')\n",
    "items['경도'] = items['경도'].astype('float')\n",
    "\n",
    "# 겹치는 주소 있기 때문에 일단 제거\n",
    "# 추후에는 분할 결제를 고려하여 Volumns를 재 측정할 예정\n",
    "items = items.drop_duplicates('전체주소')\n",
    "items = items.reset_index(drop=True)\n",
    "items['번호'] = range(1,len(items)+1)"
   ]
  },
  {
   "cell_type": "code",
   "execution_count": 470,
   "metadata": {},
   "outputs": [],
   "source": [
    "warehouse_address = '제주특별자치도 제주시 화북일동 2131-8'\n",
    "\n",
    "warehouse = get_location(warehouse_address)\n",
    "warehouse = pd.DataFrame(warehouse).T\n",
    "warehouse.columns = ['lat', 'lon']\n",
    "warehouse['name'] = 'warehouse'\n",
    "\n",
    "warehouse['lat'] = warehouse['lat'].astype('float')\n",
    "warehouse['lon'] = warehouse['lon'].astype('float')"
   ]
  },
  {
   "cell_type": "code",
   "execution_count": 471,
   "metadata": {},
   "outputs": [],
   "source": [
    "items_coords = items[['위도', '경도']]\n",
    "items_coords.columns = ['lat', 'lon']\n",
    "\n",
    "coords = pd.concat([warehouse[['lat','lon']],items_coords]).reset_index(drop=True)"
   ]
  },
  {
   "cell_type": "markdown",
   "metadata": {},
   "source": [
    "---\n",
    "\n",
    "### Optimization"
   ]
  },
  {
   "cell_type": "code",
   "execution_count": 5,
   "metadata": {},
   "outputs": [
    {
     "name": "stdout",
     "output_type": "stream",
     "text": [
      "가용 할 수 있는 cpu :32\n"
     ]
    }
   ],
   "source": [
    "# 데이터의 OD를 만들어 준다.(e.g. 데이터 수 : 200 -> 200 x 200\n",
    "def convert_OD_dataframe(data):\n",
    "    coords_np = data.values\n",
    "    O = np.repeat(coords_np, len(coords_np), axis=0)\n",
    "    D = np.tile(coords_np, reps=[len(coords_np),1])\n",
    "    OD = np.hstack([O,D])\n",
    "\n",
    "    OD = pd.DataFrame(OD)\n",
    "    OD.columns = ['O_lat', 'O_lon', 'D_lat', 'D_lon']\n",
    "    return OD\n",
    "\n",
    "OD = convert_OD_dataframe(coords)\n",
    "\n",
    "print(f'가용 할 수 있는 cpu :{mp.cpu_count()}')\n",
    "\n",
    "# 병렬 처리에 사용할 프로세스 개수 지정\n",
    "p = Pool(processes=30)\n",
    "\n",
    "distance_matrix = p.map(compute_distance_osrm, OD.values)\n",
    "\n",
    "length = len(coords)\n",
    "distance_matrix = np.array(distance_matrix).reshape(length, length)"
   ]
  },
  {
   "cell_type": "code",
   "execution_count": 6,
   "metadata": {},
   "outputs": [],
   "source": [
    "\"\"\"Simple Vehicles Routing Problem (VRP).\n",
    "\n",
    "   This is a sample using the routing library python wrapper to solve a VRP\n",
    "   problem.\n",
    "   A description of the problem can be found here:\n",
    "   http://en.wikipedia.org/wiki/Vehicle_routing_problem.\n",
    "\n",
    "   Distances are in meters.\n",
    "\"\"\"\n",
    "\n",
    "from ortools.constraint_solver import routing_enums_pb2\n",
    "from ortools.constraint_solver import pywrapcp\n",
    "\n",
    "\n",
    "def create_data_model(distance_matrix, vehicles):\n",
    "    data = {}\n",
    "    # data['distance_matrix'] : 모든 좌표에 대한 거리를 계산한 거리 매트릭스\n",
    "    data['distance_matrix'] = distance_matrix\n",
    "    # data['num_vehicles'] : 운행하는 차량 수\n",
    "    data['num_vehicles'] = vehicles\n",
    "    # data['depot'] : 시작하는 위치의 인덱스 \n",
    "    data['depot'] = 0\n",
    "    return data\n",
    "\n",
    "def print_solution(data, manager, routing, solution):\n",
    "    \"\"\"Prints solution on console.\"\"\"\n",
    "    print(f'Objective: {solution.ObjectiveValue()}')\n",
    "    max_route_distance = 0\n",
    "    for vehicle_id in range(data['num_vehicles']):\n",
    "        index = routing.Start(vehicle_id)\n",
    "        plan_output = 'Route for vehicle {}:\\n'.format(vehicle_id)\n",
    "        route_distance = 0\n",
    "        while not routing.IsEnd(index):\n",
    "            plan_output += ' {} -> '.format(manager.IndexToNode(index))\n",
    "            previous_index = index\n",
    "            index = solution.Value(routing.NextVar(index))\n",
    "            route_distance += routing.GetArcCostForVehicle(\n",
    "                previous_index, index, vehicle_id)\n",
    "        plan_output += '{}\\n'.format(manager.IndexToNode(index))\n",
    "        plan_output += 'Distance of the route: {}m\\n'.format(route_distance)\n",
    "        print(plan_output)\n",
    "        max_route_distance = max(route_distance, max_route_distance)\n",
    "    print('Maximum of the route distances: {}m'.format(max_route_distance))\n",
    "\n",
    "\n",
    "def get_routes(solution, routing, manager):\n",
    "    routes = []\n",
    "    for route_nbr in range(routing.vehicles()):\n",
    "        index = routing.Start(route_nbr)\n",
    "        route = [manager.IndexToNode(index)]\n",
    "        while not routing.IsEnd(index):\n",
    "            index = solution.Value(routing.NextVar(index))\n",
    "            route.append(manager.IndexToNode(index))\n",
    "        routes.append(route)\n",
    "    return routes\n",
    "\n",
    "def main(distance_matrix, vehicles):\n",
    "    \"\"\"Entry point of the program.\"\"\"\n",
    "    # Instantiate the data problem.\n",
    "    data = create_data_model(distance_matrix, vehicles)\n",
    "\n",
    "    # Create the routing index manager.\n",
    "    manager = pywrapcp.RoutingIndexManager(len(data['distance_matrix']),\n",
    "                                           data['num_vehicles'], data['depot'])\n",
    "\n",
    "    # Create Routing Model.\n",
    "    routing = pywrapcp.RoutingModel(manager)\n",
    "\n",
    "\n",
    "    # Create and register a transit callback.\n",
    "    def distance_callback(from_index, to_index):\n",
    "        \"\"\"Returns the distance between the two nodes.\"\"\"\n",
    "        # Convert from routing variable Index to distance matrix NodeIndex.\n",
    "        from_node = manager.IndexToNode(from_index)\n",
    "        to_node = manager.IndexToNode(to_index)\n",
    "        return data['distance_matrix'][from_node][to_node]\n",
    "\n",
    "    transit_callback_index = routing.RegisterTransitCallback(distance_callback)\n",
    "\n",
    "    # Define cost of each arc.\n",
    "    routing.SetArcCostEvaluatorOfAllVehicles(transit_callback_index)\n",
    "\n",
    "    # Add Distance constraint.\n",
    "    dimension_name = 'Distance'\n",
    "    routing.AddDimension(\n",
    "        transit_callback_index,\n",
    "        0,  # no slack\n",
    "        140000,  # vehicle maximum travel distance\n",
    "        True,  # start cumul to zero\n",
    "        dimension_name)\n",
    "    distance_dimension = routing.GetDimensionOrDie(dimension_name)\n",
    "    distance_dimension.SetGlobalSpanCostCoefficient(100)\n",
    "\n",
    "    # Setting first solution heuristic.\n",
    "    search_parameters = pywrapcp.DefaultRoutingSearchParameters()\n",
    "    search_parameters.first_solution_strategy = (\n",
    "        routing_enums_pb2.FirstSolutionStrategy.PATH_CHEAPEST_ARC)\n",
    "\n",
    "    # Solve the problem.\n",
    "    solution = routing.SolveWithParameters(search_parameters)\n",
    "\n",
    "    # Print solution on console.\n",
    "    if solution:\n",
    "        print_solution(data, manager, routing, solution)\n",
    "        routes = get_routes(solution, routing, manager)\n",
    "        return routes \n",
    "    else:\n",
    "        print('No solution found !')"
   ]
  },
  {
   "cell_type": "code",
   "execution_count": null,
   "metadata": {},
   "outputs": [],
   "source": [
    "routes_8 = main(distance_matrix.tolist(), 8)"
   ]
  },
  {
   "cell_type": "code",
   "execution_count": null,
   "metadata": {},
   "outputs": [],
   "source": [
    "# route list 저장\n",
    "route_data_file_name = 'routes_8_20220808'\n",
    "\n",
    "with open(f\"./route_data/{route_data_file_name}.pickle\",\"wb\") as fw:\n",
    "    pickle.dump(routes_8, fw)"
   ]
  },
  {
   "cell_type": "code",
   "execution_count": 482,
   "metadata": {},
   "outputs": [],
   "source": [
    "#route list load  \n",
    "with open(f\"./route_data/{route_data_file_name}.pickle\",\"rb\") as fr:\n",
    "    routes_8 = pickle.load(fr)"
   ]
  },
  {
   "cell_type": "markdown",
   "metadata": {},
   "source": [
    "- pulp 사용 \n",
    "    - 시간과 편리성 비교\n",
    "\n",
    "https://medium.com/jdsc-tech-blog/capacitated-vehicle-routing-problem-cvrp-with-python-pulp-and-google-maps-api-5a42dbb594c0"
   ]
  },
  {
   "cell_type": "markdown",
   "metadata": {},
   "source": [
    "---"
   ]
  },
  {
   "cell_type": "code",
   "execution_count": 472,
   "metadata": {},
   "outputs": [],
   "source": [
    "# items 데이터에 vehicle 배정과 배송 순서 부여\n",
    "for idx, i in enumerate(routes_8):\n",
    "    globals()[f'vehicle_{idx}'] = items.iloc[[j-1 for j in i[1:-1]]]\n",
    "    globals()[f'vehicle_{idx}'] = globals()[f'vehicle_{idx}'].reset_index(drop=True)\n",
    "    globals()[f'vehicle_{idx}']['delivery_order'] = range(len(globals()[f'vehicle_{idx}']))\n",
    "    globals()[f'vehicle_{idx}']['vehicle_id'] = idx\n",
    "    \n",
    "items = pd.concat([globals()[f'vehicle_{idx}'] for idx,_ in enumerate(routes_8)])"
   ]
  },
  {
   "cell_type": "code",
   "execution_count": 473,
   "metadata": {},
   "outputs": [
    {
     "name": "stderr",
     "output_type": "stream",
     "text": [
      "100%|██████████| 8/8 [00:00<00:00, 98112.37it/s]\n"
     ]
    }
   ],
   "source": [
    "items = items.sort_values('번호') \n",
    "items = items.reset_index(drop=True) \n",
    "\n",
    "geometry_dict = {idx+1:[i[0],i[1]] for idx, i in enumerate(items[['경도','위도']].values)}\n",
    "geometry_dict[0] = [warehouse['lon'][0], warehouse['lat'][0]]\n",
    "\n",
    "def convert_routes_point_geometry(geometry_dict, routes):\n",
    "    routesgeometry = []\n",
    "    for i in tqdm(range(len(routes))):\n",
    "        sub_routes = [geometry_dict[j] for j in routes[i]]\n",
    "        routesgeometry.append(sub_routes)\n",
    "    return routesgeometry\n",
    "\n",
    "routes_geometry = convert_routes_point_geometry(geometry_dict, routes_8)"
   ]
  },
  {
   "cell_type": "code",
   "execution_count": 475,
   "metadata": {},
   "outputs": [],
   "source": [
    "for idx,i in enumerate(routes_geometry):\n",
    "    delivery_routes = np.array(i)\n",
    "    delivery_routes = np.hstack([delivery_routes[:-1,:],delivery_routes[1:,:]])\n",
    "\n",
    "    globals()[f'vehicle_{idx}'] = [get_res(i) for i in delivery_routes]\n",
    "\n",
    "    vehicle_timestamps = [get_total_timestamp(i) for i in globals()[f'vehicle_{idx}']]\n",
    "    vehicle_routes = [get_total_route(i) for i in globals()[f'vehicle_{idx}']]\n",
    "    vehicle_distance = [get_distance(i) for i in globals()[f'vehicle_{idx}']]\n",
    "    vehicle_duration = [get_duration(i) for i in globals()[f'vehicle_{idx}']]\n",
    "\n",
    "    globals()[f'items_vehicle_{idx}']= items.loc[items[\"vehicle_id\"] == idx]\n",
    "    globals()[f'items_vehicle_{idx}'] = globals()[f'items_vehicle_{idx}'].sort_values('delivery_order')\n",
    "\n",
    "    globals()[f'vehicle_{idx}_timestamps_last'] = vehicle_timestamps[-1]\n",
    "    globals()[f'vehicle_{idx}_routes_last']= vehicle_routes[-1]\n",
    "    globals()[f'vehicle_{idx}_distance_last']= vehicle_distance[-1]\n",
    "    globals()[f'vehicle_{idx}_duration_last']= vehicle_duration[-1]\n",
    "\n",
    "    globals()[f'items_vehicle_{idx}']['timestamps'] = vehicle_timestamps[:-1] \n",
    "    globals()[f'items_vehicle_{idx}']['routes'] = vehicle_routes[:-1] \n",
    "    globals()[f'items_vehicle_{idx}']['distance'] = vehicle_distance[:-1] \n",
    "    globals()[f'items_vehicle_{idx}']['duration'] = vehicle_duration[:-1] \n",
    "    \n",
    "    # 현재 아파트 동 단위 좌표가 동일함, 일단 고려 하지 않고 제거 후 구현\n",
    "    globals()[f'items_vehicle_{idx}'] = globals()[f'items_vehicle_{idx}'].loc[globals()[f'items_vehicle_{idx}']['duration'] != 0] \n",
    "    globals()[f'items_vehicle_{idx}']['delivery_order'] = range(len(globals()[f'items_vehicle_{idx}']))\n",
    "    \n",
    "items = pd.concat([globals()[f'items_vehicle_{i}'] for i in range(len(routes_geometry))])"
   ]
  },
  {
   "cell_type": "code",
   "execution_count": 476,
   "metadata": {},
   "outputs": [
    {
     "name": "stderr",
     "output_type": "stream",
     "text": [
      "100%|██████████| 8/8 [00:00<00:00, 1434.44it/s]\n"
     ]
    }
   ],
   "source": [
    "all_vehicle_trip = []  # 배송 차량 정보\n",
    "items_information = [] # 상품 정보\n",
    "\n",
    "for idx in tqdm(range(len(routes_geometry))):\n",
    "    # vehicle items 수\n",
    "    globals()[f'vehicle_{idx}_items_cnt'] = len(globals()[f'items_vehicle_{idx}'])\n",
    "    \n",
    "    ### timestampe 9시부터 적용 및 배송 시간 5분으로 추가하여 timestamp 재정의\n",
    "    # 배송 시간 누적합으로 배송 시간 재정의\n",
    "    timestamp = globals()[f'items_vehicle_{idx}']['timestamps'].values.tolist()\n",
    "    timestamp = np.array([t[-1] for t in timestamp])\n",
    "    timestamp = np.cumsum(timestamp)\n",
    "    \n",
    "    # np.cumsum(np.repeat(5, len(a[:-1]))) # 배송시간 각 5분으로 잡음. \n",
    "    timestamp = timestamp[:-1] + np.cumsum(np.repeat(5 ,len(timestamp[:-1])))\n",
    "    timestamp = np.hstack([0,timestamp])\n",
    "    # 배송 시작 시간 9시(540분)으로 정의\n",
    "    timestamp = timestamp + 540 # 540 (9시)\n",
    "    # 배송 시간 적용\n",
    "    timestamp = [t+increase_t for t, increase_t in zip(globals()[f'items_vehicle_{idx}']['timestamps'].values, timestamp)]\n",
    "    # 마지막 배송 시간 따로 정의\n",
    "    globals()[f'vehicle_{idx}_timestamps_last'] = np.array(globals()[f'vehicle_{idx}_timestamps_last'])  + (timestamp[-1][-1] + 5)\n",
    "    timestamp.append(globals()[f'vehicle_{idx}_timestamps_last'])\n",
    "    \n",
    "    \n",
    "    vehicle_trips = []\n",
    "    # items 배송하로 가는 information\n",
    "    for j in range(len(globals()[f'items_vehicle_{idx}'])):\n",
    "\n",
    "        vehicle = dict() \n",
    "\n",
    "        vehicle['vehicle_id'] = idx \n",
    "        vehicle['to_client'] = globals()[f'items_vehicle_{idx}']['번호'].tolist()[j]\n",
    "        vehicle['items_cnt'] = globals()[f'vehicle_{idx}_items_cnt']\n",
    "        vehicle['trips'] = globals()[f'items_vehicle_{idx}']['routes'].tolist()[j]\n",
    "        vehicle['timestamps'] = timestamp[j].tolist()\n",
    "\n",
    "        globals()[f'vehicle_{idx}_items_cnt'] -= 1\n",
    "        vehicle_trips.append(vehicle)\n",
    "        \n",
    "        # update items_information\n",
    "        items_inf = dict()\n",
    "        items_inf['item_id'] = globals()[f'items_vehicle_{idx}']['번호'].tolist()[j]\n",
    "        items_inf['path'] = globals()[f'items_vehicle_{idx}']['routes'].tolist()[j][-1]\n",
    "        items_inf['timestamp'] = [540,timestamp[j].tolist()[-1]]\n",
    "        items_information.append(items_inf)\n",
    "\n",
    "    \n",
    "    # 최종 차고지로 오는 information    \n",
    "    vehicle['vehicle_id'] = idx\n",
    "    vehicle['to_client'] = 0\n",
    "    vehicle['items_cnt'] = 0\n",
    "    vehicle['trips'] = globals()[f'vehicle_{idx}_routes_last']\n",
    "    vehicle['timestamps'] = timestamp[-1].tolist()\n",
    "    vehicle_trips.append(vehicle)\n",
    "    \n",
    "    all_vehicle_trip.extend(vehicle_trips)"
   ]
  },
  {
   "cell_type": "code",
   "execution_count": 479,
   "metadata": {},
   "outputs": [],
   "source": [
    "with open(f'./result_data/items_information.json', 'w') as f:\n",
    "    json.dump(items_information,f)\n",
    "    \n",
    "with open(f'./result_data/jeju_delivery_trip_8.json', 'w') as f:\n",
    "    json.dump(all_vehicle_trip,f)"
   ]
  }
 ],
 "metadata": {
  "kernelspec": {
   "display_name": "Python 3.8.10 64-bit",
   "language": "python",
   "name": "python3"
  },
  "language_info": {
   "codemirror_mode": {
    "name": "ipython",
    "version": 3
   },
   "file_extension": ".py",
   "mimetype": "text/x-python",
   "name": "python",
   "nbconvert_exporter": "python",
   "pygments_lexer": "ipython3",
   "version": "3.8.10"
  },
  "orig_nbformat": 4,
  "vscode": {
   "interpreter": {
    "hash": "916dbcbb3f70747c44a77c7bcd40155683ae19c65e1c03b4aa3499c5328201f1"
   }
  }
 },
 "nbformat": 4,
 "nbformat_minor": 2
}
